{
  "nbformat": 4,
  "nbformat_minor": 0,
  "metadata": {
    "colab": {
      "name": "TaheriSamin_E3.ipynb",
      "provenance": [],
      "collapsed_sections": [],
      "authorship_tag": "ABX9TyOnV+BHa/nFjDFJLh2DjeYQ",
      "include_colab_link": true
    },
    "kernelspec": {
      "name": "python3",
      "display_name": "Python 3"
    },
    "language_info": {
      "name": "python"
    }
  },
  "cells": [
    {
      "cell_type": "markdown",
      "metadata": {
        "id": "view-in-github",
        "colab_type": "text"
      },
      "source": [
        "<a href=\"https://colab.research.google.com/github/samin-taheri/Colab/blob/main/TaheriSamin_E3.ipynb\" target=\"_parent\"><img src=\"https://colab.research.google.com/assets/colab-badge.svg\" alt=\"Open In Colab\"/></a>"
      ]
    },
    {
      "cell_type": "markdown",
      "source": [
        "# Samin Taheri  20180808001"
      ],
      "metadata": {
        "id": "ZTjiDTK5PTpD"
      }
    },
    {
      "cell_type": "markdown",
      "source": [
        "**7 File I/O**\n",
        "\n",
        "**Exercise 7.1: Open a file**"
      ],
      "metadata": {
        "id": "wLhQbwk9PKj2"
      }
    },
    {
      "cell_type": "code",
      "execution_count": 22,
      "metadata": {
        "id": "5SlUKy2mNrqZ"
      },
      "outputs": [],
      "source": [
        "def open_file(fname):\n",
        "    with open(fname, 'r') as f:\n",
        "        for line in f:\n",
        "            print(line)\n",
        "    f.close()"
      ]
    },
    {
      "cell_type": "markdown",
      "source": [
        "**Exercise 7.2: Wordcount**\n",
        "\n",
        "(a)"
      ],
      "metadata": {
        "id": "jBa7EzafP1uY"
      }
    },
    {
      "cell_type": "code",
      "source": [
        "def count_twenty(fname):\n",
        "    Dictionary = {}\n",
        "    with open(fname, 'r') as f:\n",
        "        for line in f:\n",
        "            for word in line.split():\n",
        "                if word in Dictionary:\n",
        "                    count = Dictionary[word]\n",
        "                    count += 1\n",
        "                    Dictionary = count\n",
        "                else :\n",
        "                    Dictionary[word] = 1\n",
        "    f.close()\n",
        "    highestValue = 0\n",
        "    for key, value in Dictionary:\n",
        "        if value >= highestValue:\n",
        "            highestValue = value\n",
        "    twenty_most_common = sorted(Dictionary.keys(), key=lambda x: Dictionary[x])[:20]\n",
        "    return twenty_most_common"
      ],
      "metadata": {
        "id": "6kRFX17XP47n"
      },
      "execution_count": 25,
      "outputs": []
    },
    {
      "cell_type": "markdown",
      "source": [
        "(b)"
      ],
      "metadata": {
        "id": "RWQUXigzQYw7"
      }
    },
    {
      "cell_type": "code",
      "source": [
        "def unique(fname):\n",
        "    wordSet = set()\n",
        "    with open(fname, 'r') as f:\n",
        "        for line in f:\n",
        "            for word in line.split():\n",
        "                wordSet.add(word)\n",
        "    f.close()\n",
        "    print(len(wordSet))"
      ],
      "metadata": {
        "id": "UI_HBehyRUPA"
      },
      "execution_count": 26,
      "outputs": []
    },
    {
      "cell_type": "markdown",
      "source": [
        "(c)"
      ],
      "metadata": {
        "id": "LILvfWD_RYof"
      }
    },
    {
      "cell_type": "code",
      "source": [
        "def at_least_five(s, fname):\n",
        "    words = s.split()\n",
        "    count = 0\n",
        "    with open(fname, 'r') as f:\n",
        "      for word in words:\n",
        "        if len(word) >= 5:\n",
        "            count += 1\n",
        "    return count"
      ],
      "metadata": {
        "id": "sWII_r3nRaMf"
      },
      "execution_count": 34,
      "outputs": []
    },
    {
      "cell_type": "markdown",
      "source": [
        "(d) ******"
      ],
      "metadata": {
        "id": "MKYpmcWESK70"
      }
    },
    {
      "cell_type": "code",
      "source": [
        "from collections import Counter\n",
        "def word_count(fname):\n",
        "  with open(fname, 'r') as f:\n",
        "    split_it = fname.split()\n",
        "    Counter1 = Counter(split_it)\n",
        "    most_occur = Counter1.most_common(4)\n",
        "  print(most_occur)"
      ],
      "metadata": {
        "id": "j2jOd30xSL6G"
      },
      "execution_count": 24,
      "outputs": []
    },
    {
      "cell_type": "markdown",
      "source": [
        "**Exercise 7.3: Random text generator II**"
      ],
      "metadata": {
        "id": "MdLW71u_SM79"
      }
    },
    {
      "cell_type": "code",
      "source": [
        "import random\n",
        "def generate_random_text(fname):\n",
        "    with open(fname, \"r\") as f:\n",
        "      for x in range(0,random.randint(0,5)):\n",
        "        word = fname.readline(x)\n",
        "    return word"
      ],
      "metadata": {
        "id": "fBJo0FPSSQ79"
      },
      "execution_count": 35,
      "outputs": []
    },
    {
      "cell_type": "markdown",
      "source": [
        "**Exercise 7.4: Sum of lists**\n",
        "\n",
        "(a) Data generation"
      ],
      "metadata": {
        "id": "_DheEw61SRV_"
      }
    },
    {
      "cell_type": "code",
      "source": [
        "import random\n",
        "def data_generation(n, a, b, fname):\n",
        "    randomList = []\n",
        "    with open(fname, 'w') as w:\n",
        "        while (n>0):\n",
        "            if (a > b):\n",
        "                randomNumber = random.randomInteger(b, a)\n",
        "                randomList.append(randomNumber)\n",
        "            elif (b > a): \n",
        "                randomNumber = random.randomInteger(a, b)\n",
        "                randomList.append(randomNumber)\n",
        "            n = n - 1\n",
        "        w.write(str(randomList))\n",
        "    w.close()"
      ],
      "metadata": {
        "id": "rr9s3aeiSULx"
      },
      "execution_count": 29,
      "outputs": []
    },
    {
      "cell_type": "markdown",
      "source": [
        "(b) Reading the data"
      ],
      "metadata": {
        "id": "L5LOcCOQSZ-G"
      }
    },
    {
      "cell_type": "code",
      "source": [
        "def reading_the_data(fname):\n",
        "    doc = []\n",
        "    with open(fname, 'r') as f:\n",
        "        for line in f:\n",
        "            line = line.strip('[]')\n",
        "            doc = line.split(',')\n",
        "    f.close()\n",
        "    return doc"
      ],
      "metadata": {
        "id": "TDBHCWcZSa1C"
      },
      "execution_count": 30,
      "outputs": []
    },
    {
      "cell_type": "markdown",
      "source": [
        "(c) Sum problem"
      ],
      "metadata": {
        "id": "uYgrgITSSa_v"
      }
    },
    {
      "cell_type": "code",
      "source": [
        "def sum_problem(file1, file2, k):\n",
        "    list1 = reading_the_data(file1)\n",
        "    list2 = reading_the_data(file2)\n",
        "    for item1 in list1:\n",
        "        for item2 in list2:\n",
        "            if (int(item1) + int(item2) == int(k)):\n",
        "                print(\"u: \",item1.strip(),\" / v: \", item2.strip())"
      ],
      "metadata": {
        "id": "AqW2We3ISci8"
      },
      "execution_count": 31,
      "outputs": []
    },
    {
      "cell_type": "markdown",
      "source": [
        "(d) Testing"
      ],
      "metadata": {
        "id": "5-u2vaBqScrR"
      }
    },
    {
      "cell_type": "code",
      "source": [
        "print(data_generation(2000, 1, 10000, 'text.txt'))\n",
        "print(reading_the_data('text.txt'))\n",
        "print(sum_problem('text.txt', 'text2.txt', 5000))\n",
        "print(sum_problem('text.txt', 'text2.txt', 12000))"
      ],
      "metadata": {
        "id": "eTd5LKyJSdsH"
      },
      "execution_count": 32,
      "outputs": []
    },
    {
      "cell_type": "markdown",
      "source": [
        "(e) Bonus: Efficiency"
      ],
      "metadata": {
        "id": "od3RfvE2Sdy3"
      }
    },
    {
      "cell_type": "code",
      "source": [
        ""
      ],
      "metadata": {
        "id": "Hf3IBMmASn7F"
      },
      "execution_count": null,
      "outputs": []
    },
    {
      "cell_type": "markdown",
      "source": [
        "**8 Classes**\n",
        "\n",
        "**Exercise 8.1: Rational numbers**\n",
        "\n",
        "(a)"
      ],
      "metadata": {
        "id": "L1C41Cd9dTQ4"
      }
    },
    {
      "cell_type": "code",
      "source": [
        "#(a)\n",
        "class Fraction:\n",
        "    def __init__(self,p,q):\n",
        "        self.nominator=p\n",
        "        self.denominator=q\n",
        "        self.__normalize__()\n",
        "\n",
        "#(b)\n",
        "    def __str__(self):\n",
        "        return str(self.nominator)+'/'+str(self.denominator)\n",
        "#(c)\n",
        "    def __add__(self,other):\n",
        "        a = self.nominator\n",
        "        b = self.denominator\n",
        "        c = other.nominator\n",
        "        d = other.denominator\n",
        "        p = a * d + c * b\n",
        "        q = b * d\n",
        "        return Fraction(p,q)\n",
        "#(d)\n",
        "    def __sub__(self,other):\n",
        "        a = self.nominator\n",
        "        b = self.denominator\n",
        "        c = other.nominator\n",
        "        d = other.denominator\n",
        "        p=a*dc*b\n",
        "        q=b*d\n",
        "        return Fraction(p,q)\n",
        "#(e)\n",
        "    def __mul__(self,other):\n",
        "        a = self.nominator\n",
        "        b = self.denominator\n",
        "        c = other.nominator\n",
        "        d = other.denominator\n",
        "        p=a*c\n",
        "        q=b*d\n",
        "        return Fraction(p,q)\n",
        "#(f)\n",
        "    def __truediv__(self,other):\n",
        "        a = self.nominator\n",
        "        b = self.denominator\n",
        "        c = other.nominator\n",
        "        d = other.denominator\n",
        "        p=a*d\n",
        "        q=b*c\n",
        "        return Fraction(p,q)\n",
        "#(g)\n",
        "    def __eq__(self, other):\n",
        "        return self.nominator== other.nominator and self.denominator==other.denominator\n",
        "#(h)\n",
        "    def __float__(self):\n",
        "        return float(self.nominator/self.denominator)\n",
        "#(i)\n",
        "    def __normalize__(self):\n",
        "        def gcd(p,q):\n",
        "            r = 1\n",
        "            r = p% q\n",
        "            if r == 0:\n",
        "                return q\n",
        "            else:\n",
        "                return gcd(q, r)\n",
        "        divide=gcd(self.nominator,self.denominator)\n",
        "        self.nominator=int(self.nominator/divide)\n",
        "        self.denominator=int(self.denominator/divide)"
      ],
      "metadata": {
        "id": "XA0fxcwrdT-u"
      },
      "execution_count": null,
      "outputs": []
    },
    {
      "cell_type": "markdown",
      "source": [
        "**Exercise 8.2: Rock Paper Scissors**"
      ],
      "metadata": {
        "id": "9Q_Bd1DUJi9h"
      }
    },
    {
      "cell_type": "code",
      "source": [
        "class Game:\n",
        "    def __init__(self, agent1, agent2):\n",
        "        self.move_agent1 = []\n",
        "        self.move_agent2 = []\n",
        "        self.no_round = 0\n",
        "        self.score_agent1 = 0\n",
        "        self.score_agent2 = 0\n",
        "\n",
        "        self.agent1 = agent1\n",
        "        self.agent2 = agent2\n",
        "\n",
        "    def round(self):\n",
        "        print ('Round {}: '.format(self.no_round+1)) # so players can consider it when making their next action\n",
        "        move_a1 = self.agent1.get_move(self.move_agent2, self.move_agent1)\n",
        "        move_a2 = self.agent2.get_move(self.move_agent1, self.move_agent2)\n",
        "\n",
        "        outcome = self.compare(move_a1, move_a2) # compare the moves to see who comes out on top.\n",
        "        # result of the current round\n",
        "        if outcome == 1:\n",
        "            print ('Player 1 wins: {} beats {}'.format(move_a1, move_a2))\n",
        "        elif outcome == 0:\n",
        "            print ('This round is tied, both players played {}'.format(move_a1))\n",
        "        else:\n",
        "            print ('Player 2 wins: {} beats {}'.format(move_a2, move_a1))\n",
        "\n",
        "        self.move_agent1.append(move_a1)\n",
        "        self.move_agent2.append(move_a2)\n",
        "\n",
        "    def play(self, no_rounds):\n",
        "        for r in range(no_rounds):\n",
        "            self.round()\n",
        "            self.no_round += 1\n",
        "\n",
        "    def summary(self): # Summary of the game\n",
        "        print ('='*20)\n",
        "        if self.score_agent1 > self.score_agent2:\n",
        "            print ('Player 1 wins')\n",
        "        elif self.score_agent1 < self.score_agent2:\n",
        "            print ('Player 2 wins')\n",
        "        else:\n",
        "            print ('The game ends with a tie')\n",
        "\n",
        "        print ('Final score: {} - {}'.format(self.score_agent1, self.score_agent2))\n",
        "\n",
        "        print ('Most played move: {}'.format(0))\n",
        "        print ('='*20)\n",
        "\n",
        "#(a)\n",
        "    def compare(self, move1, move2): # If move1 wins, 0 if it's a draw, and -1 if move2 wins, this function returns 1.\n",
        "        if(move1 == 'r' and move2 == 's'):\n",
        "          return 1\n",
        "        if(move1 == 'r' and move2 == 'p'):\n",
        "          return -1\n",
        "        if(move1 == 's' and move2 == 'r'):\n",
        "          return -1\n",
        "        if(move1 == 's' and move2 == 'p'):\n",
        "          return 1\n",
        "        if(move1 == 'p' and move2 == 'r'):\n",
        "          return 1\n",
        "        if(move1 == 'p' and move2 == 's'):\n",
        "          return -1\n",
        "\n",
        "        return 0\n",
        "import random\n",
        "\n",
        "class Agent:\n",
        "    def get_move(self, moves_other, moves_self):\n",
        "        pass\n",
        "\n",
        "class InstructorAgent(Agent):\n",
        "    def __init__(self):\n",
        "        p_rock = random.random()\n",
        "        p_scissors = random.random()\n",
        "        p_paper = random.random()\n",
        "        p_total = p_rock + p_scissors + p_paper\n",
        "\n",
        "        self.p_rock = p_rock / p_total\n",
        "        self.p_scissors = self.p_rock + p_scissors / p_total\n",
        "\n",
        "    def get_move(self, moves_other, moves_self):\n",
        "        random_move = random.random()\n",
        "        if random_move < self.p_rock:\n",
        "            return 'r'\n",
        "        elif random_move < self.p_scissors:\n",
        "            return 's'\n",
        "        else:\n",
        "            return 'p'\n",
        "\n",
        "# (b,c)\n",
        "class MyAgent(Agent):\n",
        "    def __init__(self):\n",
        "        p_rock = random.random()\n",
        "        p_scissors = random.random()\n",
        "        p_paper = random.random()\n",
        "        p_total = p_rock + p_scissors + p_paper\n",
        "\n",
        "        self.p_rock = p_rock / p_total\n",
        "        self.p_scissors = self.p_rock + p_scissors / p_total\n",
        "\n",
        "    def get_move(self, moves_other, moves_self):\n",
        "        random_move = random.random()\n",
        "        if random_move < self.p_rock:\n",
        "            return 'r'\n",
        "        elif random_move < self.p_scissors:\n",
        "            return 's'\n",
        "        else:\n",
        "            return 'p'\n",
        "\n",
        "class HumanAgent(Agent):\n",
        "    def get_move(self, moves_other, moves_self):\n",
        "        print (\"Rock      'r'\")\n",
        "        print (\"Paper     'p'\")\n",
        "        print (\"Scissors  's'\")\n",
        "        x = input(\"Enter your move: \")\n",
        "        if (x != 'r' or x!= 's' or x!='p'):\n",
        "          print('Wrong input please select one of following')\n",
        "          print (\"Rock      'r'\")\n",
        "          print (\"Paper     'p'\")\n",
        "          print (\"Scissors  's'\")\n",
        "          x = input(\"Enter your move: \")\n",
        "        else:\n",
        "          return x\n",
        "\n",
        "#We can choose which agents we wish to play the game with in this section.\n",
        "game = Game(HumanAgent(), InstructorAgent())\n",
        "#How many rounds would you like to play?\n",
        "number_rounds = 10\n",
        "game.play(number_rounds)\n",
        "\n",
        "game.summary()"
      ],
      "metadata": {
        "id": "7IF7sdatJlVz"
      },
      "execution_count": 7,
      "outputs": []
    },
    {
      "cell_type": "markdown",
      "source": [
        "**Exercise 8.3: Hangman agent**"
      ],
      "metadata": {
        "id": "c8011JtUJpmM"
      }
    },
    {
      "cell_type": "code",
      "source": [
        "from random import choice\n",
        "from time import sleep\n",
        "\n",
        "class Hangman:\n",
        "    HANGMAN = (\n",
        "        \"\"\"\n",
        "         ------\n",
        "         |    |\n",
        "         |\n",
        "         |\n",
        "         |\n",
        "         |\n",
        "         |\n",
        "         |\n",
        "         |\n",
        "        ----------\n",
        "        \"\"\",\n",
        "        \"\"\"\n",
        "         ------\n",
        "         |    |\n",
        "         |    O\n",
        "         |\n",
        "         |\n",
        "         |\n",
        "         |\n",
        "         |\n",
        "         |\n",
        "        ----------\n",
        "        \"\"\",\n",
        "        \"\"\"\n",
        "         ------\n",
        "         |    |\n",
        "         |    O\n",
        "         |   -+-\n",
        "         | \n",
        "         |   \n",
        "         |   \n",
        "         |   \n",
        "         |   \n",
        "        ----------\n",
        "        \"\"\",\n",
        "        \"\"\"\n",
        "         ------\n",
        "         |    |\n",
        "         |    O\n",
        "         |  /-+-\n",
        "         |   \n",
        "         |   \n",
        "         |   \n",
        "         |   \n",
        "         |   \n",
        "        ----------\n",
        "        \"\"\",\n",
        "        \"\"\"\n",
        "         ------\n",
        "         |    |\n",
        "         |    O\n",
        "         |  /-+-/\n",
        "         |   \n",
        "         |   \n",
        "         |   \n",
        "         |   \n",
        "         |   \n",
        "        ----------\n",
        "        \"\"\",\n",
        "        \"\"\"\n",
        "         ------\n",
        "         |    |\n",
        "         |    O\n",
        "         |  /-+-/\n",
        "         |    |\n",
        "         |   \n",
        "         |   \n",
        "         |   \n",
        "         |   \n",
        "        ----------\n",
        "        \"\"\",\n",
        "        \"\"\"\n",
        "         ------\n",
        "         |    |\n",
        "         |    O\n",
        "         |  /-+-/\n",
        "         |    |\n",
        "         |    |\n",
        "         |   | \n",
        "         |   | \n",
        "         |   \n",
        "        ----------\n",
        "        \"\"\",\n",
        "        \"\"\"\n",
        "         ------\n",
        "         |    |\n",
        "         |    O\n",
        "         |  /-+-/\n",
        "         |    |\n",
        "         |    |\n",
        "         |   | |\n",
        "         |   | |\n",
        "         |  \n",
        "        ----------\n",
        "        \"\"\")\n",
        "\n",
        "    WORDS = (\"SAMIN\", \"TAHERI\", \"COMPUTER\", \"SCIENTIST\")\n",
        "    POSITIVE = (\"Well done!\", \"Awesome!\", \"You Legend!\")\n",
        "\n",
        "    def __init__(self):\n",
        "        self.word = choice(self.WORDS)\n",
        "        self.so_far = \"-\" * len(self.word)\n",
        "        self.used = []\n",
        "        self.wrong_answer = 0\n",
        "\n",
        "    def play(self): # play the game\n",
        "        self.reset_game()\n",
        "        self.start_game()\n",
        "\n",
        "        # The total number of wrong answers should not surpass the duration of HANGMAN.\n",
        "        while self.wrong_answer < len(self.HANGMAN) and self.so_far != self.word:\n",
        "            self.current_situation()\n",
        "            guess = self.users_guess()\n",
        "            self.check_the_answer(guess)\n",
        "\n",
        "        self.print_result()\n",
        "        self.replay_game()\n",
        "\n",
        "    def check_the_answer(self, guess): # Indicates whether or not the user's estimate is correct.\n",
        "        if guess in self.word:\n",
        "            print(choice(self.POSITIVE), \"...Loading...\")\n",
        "\n",
        "            for i in range(len(self.word)):\n",
        "                if guess == self.word[i]:\n",
        "                    # so far is spliced as follows:so far [from the beginning: till the location of the correctly guessed letter, \n",
        "                    # but without including it] + guessed letter + so far [from the position next to the correctly guessed letter: to the end]\n",
        "                    self.so_far = self.so_far[:i] + guess + self.so_far[i+1:]\n",
        "\n",
        "        else:\n",
        "            print(\"Incorrect!\")\n",
        "            self.wrong_answer += 1\n",
        "\n",
        "    def replay_game(self):\n",
        "      # The user is asked if he or she wants to play again\n",
        "      # If the user wants to play again, he or she should call play\n",
        "      # Otherwise, express gratitude to the user for participating\n",
        "\n",
        "        print(\"Do you want to play again?\")\n",
        "        user_input = input(\"Enter Y for yes or N for no: \").upper()\n",
        "\n",
        "        if user_input == \"Y\":\n",
        "            self.play()\n",
        "\n",
        "        else:\n",
        "            print()\n",
        "            print(\"Thank you for playing!\")\n",
        "\n",
        "    def current_situation(self): # This function prints the game's current state\n",
        "        print()\n",
        "        print(self.HANGMAN[self.wrong_answer])\n",
        "        print(\"Word so far: \", self.so_far)\n",
        "        print(\"Letters used: \", sorted(self.used))\n",
        "\n",
        "    def print_result(self): # win or lose\n",
        "        sleep(1)\n",
        "        print()\n",
        "        print(\"Loading...\")\n",
        "        sleep(1)\n",
        "        print()\n",
        "        if self.wrong_answer == len(self.HANGMAN):\n",
        "            print(\"Game Over!\")\n",
        "        else:\n",
        "            print(\"Winner!\")\n",
        "\n",
        "    def reset_game(self): # By calling the constructor, the game is reset\n",
        "        self.__init__()\n",
        "\n",
        "    def start_game(self): # The game begins by printing an introduction and instructing the user to proceed by pressing the ENTER key.\n",
        "        print()\n",
        "        print(\"\\t\\tWelcome to Hangman!\")\n",
        "        print()\n",
        "        input(\"Press Enter to START:\")\n",
        "\n",
        "    def users_guess(self): # The user is asked to guess a letter, and the result is the user's guessed letter.\n",
        "        guess = input(\"Guess a letter: \").upper()\n",
        "        sleep(1)  # Time delay - makes reading more user-friendly\n",
        "        print()\n",
        "\n",
        "        while guess in self.used:\n",
        "            print(\"Try again... You've already used this letter\")\n",
        "            guess = input(\"Guess a letter: \").upper()\n",
        "            sleep(1)\n",
        "            print()\n",
        "\n",
        "        self.used.append(guess)\n",
        "\n",
        "        return guess\n",
        "\n",
        "if __name__ == '__main__':\n",
        "    game = Hangman()\n",
        "\n",
        "    game.play()"
      ],
      "metadata": {
        "id": "CjXa-AmjJq7V"
      },
      "execution_count": 39,
      "outputs": []
    },
    {
      "cell_type": "markdown",
      "source": [
        "**Exercise 8.4: Sparse and dense vectors**"
      ],
      "metadata": {
        "id": "O-MVYJEvJrIE"
      }
    },
    {
      "cell_type": "code",
      "source": [
        "from pyspark.mllib.linalg import Vectors, SparseVector, DenseVector\n",
        "import numpy as np\n",
        "#(b)\n",
        "class SparseVec:\n",
        "  def __add__(x, y):\n",
        "    assert isinstance(x, SparseVector) and isinstance(y, SparseVector)\n",
        "    assert x.size == y.size \n",
        "    indices = set(x.indices).union(set(y.indices))\n",
        "    # Create index: value dictionaries\n",
        "    xd = dict(zip(x.indices, x.values))\n",
        "    yd = dict(zip(y.indices, y.values))\n",
        "    zero = np.float64(0)\n",
        "    # Create dictionary index: (x[index] + y[index])\n",
        "    values =  {i: xd.get(i, zero) + yd.get(i, zero)\n",
        "       for i in indices\n",
        "       if xd.get(i, zero) + yd.get(i, zero) != zero}\n",
        "#(c)\n",
        "    return Vectors.sparse(x.size, values)\n",
        "    def __multiply__(x, y):\n",
        "      assert isinstance(x, DenseVector)\n",
        "      assert isinstance(y, SparseVector)\n",
        "      assert x.size == y.size\n",
        "      return SparseVector(y.size, y.indices, x[y.indices] * y.values)\n"
      ],
      "metadata": {
        "id": "ZrUdsHM5Jthe"
      },
      "execution_count": 21,
      "outputs": []
    },
    {
      "cell_type": "markdown",
      "source": [
        "**Exercise 8.5: Implementing the set class**"
      ],
      "metadata": {
        "id": "E9hSYBVkJtoh"
      }
    },
    {
      "cell_type": "code",
      "source": [
        "class mySet:\n",
        "    def __init__(self, *args):\n",
        "        self._dict = {}\n",
        "        for arg in args:\n",
        "            self.add(arg)\n",
        "\n",
        "    def __rep__(self):\n",
        "        import string\n",
        "        elems = map(repr, self._dict.keys(  ))\n",
        "        elems.sort(  )\n",
        "        return \"%s(%s)\" % (self.__class__.__name__, string.join(elems, ', '))\n",
        "\n",
        "    def __extenditem__(self, args):\n",
        "        for arg in args:\n",
        "            self.add(arg)\n",
        "\n",
        "    def __containsitem__(self, item): # contains an item\n",
        "        return self._dict.has_key(item)\n",
        "\n",
        "    def __getitem__(self, index): #get a list item\n",
        "        return self._dict.keys(  )[index]\n",
        "\n",
        "    def __additem__(self, item): # add an item\n",
        "        self._dict[item] = item\n",
        "\n",
        "    def __deleteitem__(self, item): # delete an item\n",
        "        del self._dict[item]\n",
        "\n",
        "    def __iter__(self):\n",
        "        return iter(self._dict.copy(  ))\n",
        "\n",
        "    def __len__(self): #list length\n",
        "        return len(self._dict)"
      ],
      "metadata": {
        "id": "PQAQLTYIJwnZ"
      },
      "execution_count": 38,
      "outputs": []
    },
    {
      "cell_type": "markdown",
      "source": [
        "**Exercise 8.6: Binary search tree**"
      ],
      "metadata": {
        "id": "a-KRRIWHJwtW"
      }
    },
    {
      "cell_type": "code",
      "source": [
        "#(a)\n",
        "class Node:\n",
        "    def __init__(self, key):\n",
        "        self.left = None\n",
        "        self.right = None\n",
        "        self.key = key"
      ],
      "metadata": {
        "id": "H9OUZMonJy4-"
      },
      "execution_count": 7,
      "outputs": []
    },
    {
      "cell_type": "code",
      "source": [
        "#(b)\n",
        "def create(root):\n",
        "    if root:\n",
        "        create(root.left)\n",
        "        print(root.key)\n",
        "        create(root.right)"
      ],
      "metadata": {
        "id": "g1V9GgvBQeey"
      },
      "execution_count": 8,
      "outputs": []
    },
    {
      "cell_type": "code",
      "source": [
        "#(c)\n",
        "def insert(root, key):\n",
        "    if root is None:\n",
        "        return Node(key)\n",
        "    else:\n",
        "        if root.key == key:\n",
        "            return root\n",
        "        elif root.key < key:\n",
        "            root.right = insert(root.right, key)\n",
        "        else:\n",
        "            root.left = insert(root.left, key)\n",
        "    return root\n",
        "r = Node(50)\n",
        "r = insert(r, 30)\n",
        "r = insert(r, 20)\n",
        "r = insert(r, 40)\n",
        "r = insert(r, 70)\n",
        "r = insert(r, 60)\n",
        "r = insert(r, 80)\n",
        "\n",
        "create(r)"
      ],
      "metadata": {
        "colab": {
          "base_uri": "https://localhost:8080/"
        },
        "id": "sAE1iBUiQhxN",
        "outputId": "51fd82f9-9973-4790-b58c-806c69f79857"
      },
      "execution_count": 9,
      "outputs": [
        {
          "output_type": "stream",
          "name": "stdout",
          "text": [
            "20\n",
            "30\n",
            "40\n",
            "50\n",
            "60\n",
            "70\n",
            "80\n"
          ]
        }
      ]
    },
    {
      "cell_type": "code",
      "source": [
        "#(d)\n",
        "def min_node_value(node):\n",
        "    current = node\n",
        "    while(current.left is not None):\n",
        "        current = current.left\n",
        "    return current\n",
        "\n",
        "def delete_node(root, key): \n",
        "    if root is None:\n",
        "        return root\n",
        "    if key < root.key:\n",
        "        root.left = delete_node(root.left, key) \n",
        "    elif(key > root.key):\n",
        "        root.right = delete_node(root.right, key) \n",
        "    else:\n",
        "        if root.left is None:\n",
        "            temp = root.right\n",
        "            root = None\n",
        "            return temp\n",
        " \n",
        "        elif root.right is None:\n",
        "            temp = root.left\n",
        "            root = None\n",
        "            return temp\n",
        "        temp = min_node_value(root.right)\n",
        "        root.key = temp.key \n",
        "        root.right = delete_node(root.right, temp.key)\n",
        " \n",
        "    return root\n",
        "root = None\n",
        "root = insert(root, 20)\n",
        "root = insert(root, 30)\n",
        "root = insert(root, 40)\n",
        "root = insert(root, 50)\n",
        "print (\"\\nDelete 20\")\n",
        "root = delete_node(root, 20)\n",
        "print (\"The updated tree is traversed in reverse order:\")\n",
        "create(root)"
      ],
      "metadata": {
        "colab": {
          "base_uri": "https://localhost:8080/"
        },
        "id": "6gvsCW4RQqgm",
        "outputId": "b8d90190-7819-4d0f-d81f-e14061517867"
      },
      "execution_count": 37,
      "outputs": [
        {
          "output_type": "stream",
          "name": "stdout",
          "text": [
            "\n",
            "Delete 20\n",
            "The updated tree is traversed in reverse order:\n",
            "30\n",
            "40\n",
            "50\n"
          ]
        }
      ]
    },
    {
      "cell_type": "code",
      "source": [
        "#(e)\n",
        "def search(root,key):   \n",
        "    if root is None or root.val == key:\n",
        "        return root\n",
        "    if root.val < key:\n",
        "        return search(root.right,key)\n",
        "    return search(root.left,key)"
      ],
      "metadata": {
        "id": "sxByfQ2mQriO"
      },
      "execution_count": 33,
      "outputs": []
    },
    {
      "cell_type": "markdown",
      "source": [
        "**Exercise 8.7: Ordinary least squares**"
      ],
      "metadata": {
        "id": "aHpysqk8Jy-7"
      }
    },
    {
      "cell_type": "code",
      "source": [
        ""
      ],
      "metadata": {
        "id": "dBaqYNUFJ1VO"
      },
      "execution_count": null,
      "outputs": []
    }
  ]
}