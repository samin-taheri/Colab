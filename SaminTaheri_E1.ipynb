{
  "nbformat": 4,
  "nbformat_minor": 0,
  "metadata": {
    "colab": {
      "name": "SaminTaheri_E1.ipynb",
      "provenance": [],
      "authorship_tag": "ABX9TyN9rnTxT8WQTjG0IHo8ev0x",
      "include_colab_link": true
    },
    "kernelspec": {
      "name": "python3",
      "display_name": "Python 3"
    },
    "language_info": {
      "name": "python"
    }
  },
  "cells": [
    {
      "cell_type": "markdown",
      "metadata": {
        "id": "view-in-github",
        "colab_type": "text"
      },
      "source": [
        "<a href=\"https://colab.research.google.com/github/samin-taheri/rn-country-picker/blob/master/SaminTaheri_E1.ipynb\" target=\"_parent\"><img src=\"https://colab.research.google.com/assets/colab-badge.svg\" alt=\"Open In Colab\"/></a>"
      ]
    },
    {
      "cell_type": "markdown",
      "source": [
        "# Samin Taheri. 20180808001\n",
        "\n",
        "**1 Basics**\n",
        "\n",
        "**Exercise 1.1: The interpreter**\n"
      ],
      "metadata": {
        "id": "E7PAwiLdYqFp"
      }
    },
    {
      "cell_type": "code",
      "source": [
        "3 + 1"
      ],
      "metadata": {
        "colab": {
          "base_uri": "https://localhost:8080/"
        },
        "id": "dMkVe5RPSUFj",
        "outputId": "e01cbdba-cb44-4918-cc29-deabbead45ab"
      },
      "execution_count": 45,
      "outputs": [
        {
          "output_type": "execute_result",
          "data": {
            "text/plain": [
              "4"
            ]
          },
          "metadata": {},
          "execution_count": 45
        }
      ]
    },
    {
      "cell_type": "code",
      "source": [
        "3 * 3"
      ],
      "metadata": {
        "colab": {
          "base_uri": "https://localhost:8080/"
        },
        "id": "G_tACkG-Sfi2",
        "outputId": "2e91a313-46cf-4609-fedb-23a742b7a102"
      },
      "execution_count": 46,
      "outputs": [
        {
          "output_type": "execute_result",
          "data": {
            "text/plain": [
              "9"
            ]
          },
          "metadata": {},
          "execution_count": 46
        }
      ]
    },
    {
      "cell_type": "code",
      "source": [
        "2 ** 3"
      ],
      "metadata": {
        "colab": {
          "base_uri": "https://localhost:8080/"
        },
        "id": "b6eleU9iShXn",
        "outputId": "c8c6d0b8-a56d-466a-ba39-385d515bc35c"
      },
      "execution_count": 47,
      "outputs": [
        {
          "output_type": "execute_result",
          "data": {
            "text/plain": [
              "8"
            ]
          },
          "metadata": {},
          "execution_count": 47
        }
      ]
    },
    {
      "cell_type": "code",
      "source": [
        "\"Hello, world!\""
      ],
      "metadata": {
        "colab": {
          "base_uri": "https://localhost:8080/",
          "height": 35
        },
        "id": "_0ED0Z3XSjRr",
        "outputId": "4e587b13-a035-4321-e1cc-1ec5a704f4b2"
      },
      "execution_count": 48,
      "outputs": [
        {
          "output_type": "execute_result",
          "data": {
            "application/vnd.google.colaboratory.intrinsic+json": {
              "type": "string"
            },
            "text/plain": [
              "'Hello, world!'"
            ]
          },
          "metadata": {},
          "execution_count": 48
        }
      ]
    },
    {
      "cell_type": "markdown",
      "source": [
        "**Exercise 1.2: Scripts:**\n",
        "\n",
        "First nothing happens,  but then using print() we can print them."
      ],
      "metadata": {
        "id": "wW58nmRYZtqk"
      }
    },
    {
      "cell_type": "code",
      "source": [
        "print(3 + 1)\n",
        "print(3 * 3)\n",
        "print(2 ** 3)\n",
        "print(\"Hello, world!\")"
      ],
      "metadata": {
        "colab": {
          "base_uri": "https://localhost:8080/"
        },
        "id": "F0Vovj0DSpQp",
        "outputId": "4a0b9d77-5f54-4b46-e1c6-09f8a54d4512"
      },
      "execution_count": 49,
      "outputs": [
        {
          "output_type": "stream",
          "name": "stdout",
          "text": [
            "4\n",
            "9\n",
            "8\n",
            "Hello, world!\n"
          ]
        }
      ]
    },
    {
      "cell_type": "markdown",
      "source": [
        "**Exercise 1.3: More interpreter**\n",
        "\n",
        "(a) Two strings are combined into a single string.\n",
        "\n",
        "(b) 'py' is repeated three times, then concatenated into the string 'thon'.\n",
        "\n",
        "(c) Unsupported operand.\n",
        "\n",
        "(d) Have to be str not int.\n",
        "\n",
        "(e) It's repeating 3 three times.\n",
        "\n",
        "(f) \"a\" is not defined.\n",
        "\n",
        "(g) Doesn't exist.\n",
        "\n",
        "(h) \"a\" is now 3."
      ],
      "metadata": {
        "id": "ehXzoRxWafrJ"
      }
    },
    {
      "cell_type": "code",
      "source": [
        "'py' + 'thon'"
      ],
      "metadata": {
        "colab": {
          "base_uri": "https://localhost:8080/",
          "height": 35
        },
        "id": "25FPRl2ZT4eN",
        "outputId": "acb23567-08bd-4d5c-c747-783e5ceae73f"
      },
      "execution_count": 58,
      "outputs": [
        {
          "output_type": "execute_result",
          "data": {
            "application/vnd.google.colaboratory.intrinsic+json": {
              "type": "string"
            },
            "text/plain": [
              "'python'"
            ]
          },
          "metadata": {},
          "execution_count": 58
        }
      ]
    },
    {
      "cell_type": "code",
      "source": [
        "'py'*3 + 'thon'"
      ],
      "metadata": {
        "colab": {
          "base_uri": "https://localhost:8080/",
          "height": 35
        },
        "id": "eR4Vg4J6T-N3",
        "outputId": "c05667e5-bf22-4a76-efee-51e35f8a4963"
      },
      "execution_count": 59,
      "outputs": [
        {
          "output_type": "execute_result",
          "data": {
            "application/vnd.google.colaboratory.intrinsic+json": {
              "type": "string"
            },
            "text/plain": [
              "'pypypython'"
            ]
          },
          "metadata": {},
          "execution_count": 59
        }
      ]
    },
    {
      "cell_type": "code",
      "source": [
        "'py' - 'py'"
      ],
      "metadata": {
        "id": "RHZ9QeFKUDNy"
      },
      "execution_count": 61,
      "outputs": []
    },
    {
      "cell_type": "code",
      "source": [
        "'3' + 3"
      ],
      "metadata": {
        "id": "GpCnO51CUJop"
      },
      "execution_count": 63,
      "outputs": []
    },
    {
      "cell_type": "code",
      "source": [
        "3 * '3'"
      ],
      "metadata": {
        "colab": {
          "base_uri": "https://localhost:8080/",
          "height": 35
        },
        "id": "Rrgm3EczUTTN",
        "outputId": "dccf7328-917d-4bea-c39d-b8af7e4ab2b8"
      },
      "execution_count": 64,
      "outputs": [
        {
          "output_type": "execute_result",
          "data": {
            "application/vnd.google.colaboratory.intrinsic+json": {
              "type": "string"
            },
            "text/plain": [
              "'333'"
            ]
          },
          "metadata": {},
          "execution_count": 64
        }
      ]
    },
    {
      "cell_type": "code",
      "source": [
        "a"
      ],
      "metadata": {
        "id": "auc2mZ_hUWke"
      },
      "execution_count": 66,
      "outputs": []
    },
    {
      "cell_type": "code",
      "source": [
        "a = 3"
      ],
      "metadata": {
        "id": "AFME39yLUalF"
      },
      "execution_count": 67,
      "outputs": []
    },
    {
      "cell_type": "markdown",
      "source": [
        "**Exercise 1.4: Booleans**\n",
        "\n",
        "(a) true.\n",
        "\n",
        "(b) 1 as default is true.\n",
        "\n",
        "(c) false since 1 != 0.\n",
        "\n",
        "(d) true.\n",
        "\n",
        "(e) true.\n",
        "\n",
        "(f) output is 0, since 3! = 1, so 0 * 3 == 0.\n",
        "\n",
        "(g) false, since left part is equal to 7 and 7! = 1.\n",
        "\n",
        "(h) false, since left part is equal to 15 and right part is equal to 16, and 15 < 16."
      ],
      "metadata": {
        "id": "rblohgWtflZa"
      }
    },
    {
      "cell_type": "code",
      "source": [
        "1 == 1"
      ],
      "metadata": {
        "colab": {
          "base_uri": "https://localhost:8080/"
        },
        "id": "GUntcK4xTYr_",
        "outputId": "6a9ae936-060f-4c4f-ce71-f2007836c83a"
      },
      "execution_count": 50,
      "outputs": [
        {
          "output_type": "execute_result",
          "data": {
            "text/plain": [
              "True"
            ]
          },
          "metadata": {},
          "execution_count": 50
        }
      ]
    },
    {
      "cell_type": "code",
      "source": [
        "1 == True"
      ],
      "metadata": {
        "colab": {
          "base_uri": "https://localhost:8080/"
        },
        "id": "gfTDmI19Tcek",
        "outputId": "40beb2d0-8909-496f-ebe1-44be58875b44"
      },
      "execution_count": 51,
      "outputs": [
        {
          "output_type": "execute_result",
          "data": {
            "text/plain": [
              "True"
            ]
          },
          "metadata": {},
          "execution_count": 51
        }
      ]
    },
    {
      "cell_type": "code",
      "source": [
        "0 == True"
      ],
      "metadata": {
        "colab": {
          "base_uri": "https://localhost:8080/"
        },
        "id": "iM7Wj-hLTez4",
        "outputId": "634ef5d1-6294-4bd1-f000-1c54e52a01d2"
      },
      "execution_count": 52,
      "outputs": [
        {
          "output_type": "execute_result",
          "data": {
            "text/plain": [
              "False"
            ]
          },
          "metadata": {},
          "execution_count": 52
        }
      ]
    },
    {
      "cell_type": "code",
      "source": [
        "0 == False"
      ],
      "metadata": {
        "colab": {
          "base_uri": "https://localhost:8080/"
        },
        "id": "xW4e1qExTh4B",
        "outputId": "441e5412-945e-4928-f2bd-c9a7d3af7120"
      },
      "execution_count": 53,
      "outputs": [
        {
          "output_type": "execute_result",
          "data": {
            "text/plain": [
              "True"
            ]
          },
          "metadata": {},
          "execution_count": 53
        }
      ]
    },
    {
      "cell_type": "code",
      "source": [
        "3 == 1 * 3"
      ],
      "metadata": {
        "colab": {
          "base_uri": "https://localhost:8080/"
        },
        "id": "pdDjVid1Tlmn",
        "outputId": "942a3f58-ba3e-403b-b0be-5009d55d0100"
      },
      "execution_count": 54,
      "outputs": [
        {
          "output_type": "execute_result",
          "data": {
            "text/plain": [
              "True"
            ]
          },
          "metadata": {},
          "execution_count": 54
        }
      ]
    },
    {
      "cell_type": "code",
      "source": [
        "(3 == 1)* 3"
      ],
      "metadata": {
        "colab": {
          "base_uri": "https://localhost:8080/"
        },
        "id": "quLRUAiMTpNj",
        "outputId": "21fe0286-befd-4ba0-af3b-1f2c3d73586f"
      },
      "execution_count": 55,
      "outputs": [
        {
          "output_type": "execute_result",
          "data": {
            "text/plain": [
              "0"
            ]
          },
          "metadata": {},
          "execution_count": 55
        }
      ]
    },
    {
      "cell_type": "code",
      "source": [
        "(3 == 3) * 4 + 3 == 1"
      ],
      "metadata": {
        "colab": {
          "base_uri": "https://localhost:8080/"
        },
        "id": "C1O6Z0I6TtEi",
        "outputId": "c221b29b-ce61-481b-c066-147e67923701"
      },
      "execution_count": 56,
      "outputs": [
        {
          "output_type": "execute_result",
          "data": {
            "text/plain": [
              "False"
            ]
          },
          "metadata": {},
          "execution_count": 56
        }
      ]
    },
    {
      "cell_type": "code",
      "source": [
        "3**5 >= 4**4"
      ],
      "metadata": {
        "colab": {
          "base_uri": "https://localhost:8080/"
        },
        "id": "yFhk-GsDTxlw",
        "outputId": "66062bfb-f577-4943-d466-4ab29e26b55e"
      },
      "execution_count": 57,
      "outputs": [
        {
          "output_type": "execute_result",
          "data": {
            "text/plain": [
              "False"
            ]
          },
          "metadata": {},
          "execution_count": 57
        }
      ]
    },
    {
      "cell_type": "markdown",
      "source": [
        "**Exercise 1.5: Integers**\n",
        "\n",
        "(a) Output is 1.666666666666666667, floating point division.\n",
        "\n",
        "(b) Output is 2.\n",
        "\n",
        "(c) Output is 1.6666666666666667.\n",
        "\n",
        "(d) Output is 1.6666666666666667.\n",
        "\n",
        "(e) Output is 2.2.\n",
        "\n",
        "(f) Pytho Large Number."
      ],
      "metadata": {
        "id": "7wJnSyMghy0a"
      }
    },
    {
      "cell_type": "code",
      "source": [
        "5 / 3"
      ],
      "metadata": {
        "colab": {
          "base_uri": "https://localhost:8080/"
        },
        "id": "5WHyOnDCUjtY",
        "outputId": "b1e84d10-e7fc-4c51-ff89-151e3d234d09"
      },
      "execution_count": 68,
      "outputs": [
        {
          "output_type": "execute_result",
          "data": {
            "text/plain": [
              "1.6666666666666667"
            ]
          },
          "metadata": {},
          "execution_count": 68
        }
      ]
    },
    {
      "cell_type": "code",
      "source": [
        "5 % 3"
      ],
      "metadata": {
        "colab": {
          "base_uri": "https://localhost:8080/"
        },
        "id": "ilbB-Ej7Un_Z",
        "outputId": "6be73cd5-8c0b-4e83-cc18-865ca8b7eec2"
      },
      "execution_count": 69,
      "outputs": [
        {
          "output_type": "execute_result",
          "data": {
            "text/plain": [
              "2"
            ]
          },
          "metadata": {},
          "execution_count": 69
        }
      ]
    },
    {
      "cell_type": "code",
      "source": [
        "5.0 / 3"
      ],
      "metadata": {
        "colab": {
          "base_uri": "https://localhost:8080/"
        },
        "id": "vmhqImcIUqUt",
        "outputId": "5ddc6d55-0c0d-4079-8fad-178918ad7c7a"
      },
      "execution_count": 70,
      "outputs": [
        {
          "output_type": "execute_result",
          "data": {
            "text/plain": [
              "1.6666666666666667"
            ]
          },
          "metadata": {},
          "execution_count": 70
        }
      ]
    },
    {
      "cell_type": "code",
      "source": [
        "5 / 3.0"
      ],
      "metadata": {
        "colab": {
          "base_uri": "https://localhost:8080/"
        },
        "id": "MLV9UkhoUtvo",
        "outputId": "2c5b1413-52b8-4ed0-dca7-034250b9415c"
      },
      "execution_count": 71,
      "outputs": [
        {
          "output_type": "execute_result",
          "data": {
            "text/plain": [
              "1.6666666666666667"
            ]
          },
          "metadata": {},
          "execution_count": 71
        }
      ]
    },
    {
      "cell_type": "code",
      "source": [
        "5.2 % 3"
      ],
      "metadata": {
        "colab": {
          "base_uri": "https://localhost:8080/"
        },
        "id": "FxeMvK-oUvpE",
        "outputId": "08b25cad-a86b-423f-a507-62ce7e4985be"
      },
      "execution_count": 72,
      "outputs": [
        {
          "output_type": "execute_result",
          "data": {
            "text/plain": [
              "2.2"
            ]
          },
          "metadata": {},
          "execution_count": 72
        }
      ]
    },
    {
      "cell_type": "code",
      "source": [
        "2001 ** 200"
      ],
      "metadata": {
        "colab": {
          "base_uri": "https://localhost:8080/"
        },
        "id": "FXrcWjaaUz8q",
        "outputId": "4ebb6a77-d008-415c-9746-cc053ccfa9a8"
      },
      "execution_count": 73,
      "outputs": [
        {
          "output_type": "execute_result",
          "data": {
            "text/plain": [
              "1775896810483121914350934797871501063452843428843794422323202530887281536545210629921129898113201749875234297340507804201761453596034016264189501186924066128377025843892373608427790859511135990682732202975330824797118808624727351608183194154557208730494440110429635650057431833674286462463508755276302896154336475782768613964332764108132533925570342220340698973761380541294970139762186212823359128790706292900765512137078550033912252338262922477518858757114840012576514724742388124595061301502222934806074032688691170880996881967426442947828261057852871032366879179996122216385870273020506079240103910728766397733398071775041745854959302025036249707279600400001"
            ]
          },
          "metadata": {},
          "execution_count": 73
        }
      ]
    },
    {
      "cell_type": "markdown",
      "source": [
        "**Exercise 1.6: Floats**\n",
        "\n",
        "(a) answer has been overflowed.\n",
        "\n",
        "(b) Because the smaller 1.0 does not ignore the extra 1.0, the result is 1.0.\n",
        "\n",
        "(c) Since E20 is a large number, 1.0 is ignored, so 1.0E20 + 1.0 == 1.0E20."
      ],
      "metadata": {
        "id": "quYaiN5Hi3L4"
      }
    },
    {
      "cell_type": "code",
      "source": [
        "1.0+1.0e20-1.0"
      ],
      "metadata": {
        "colab": {
          "base_uri": "https://localhost:8080/"
        },
        "id": "iHylmP7tVAH8",
        "outputId": "7609e58c-5dfb-4ba7-92af-064896517a66"
      },
      "execution_count": 74,
      "outputs": [
        {
          "output_type": "execute_result",
          "data": {
            "text/plain": [
              "1e+20"
            ]
          },
          "metadata": {},
          "execution_count": 74
        }
      ]
    },
    {
      "cell_type": "code",
      "source": [
        "2000.3 ** 200"
      ],
      "metadata": {
        "id": "PYhYTbKdVBkT"
      },
      "execution_count": 76,
      "outputs": []
    },
    {
      "cell_type": "code",
      "source": [
        "1.0 + 1.0 - 1.0"
      ],
      "metadata": {
        "colab": {
          "base_uri": "https://localhost:8080/"
        },
        "id": "cqNagyyqVOH-",
        "outputId": "2b200a52-913e-4e54-ae64-2bee16468d32"
      },
      "execution_count": 77,
      "outputs": [
        {
          "output_type": "execute_result",
          "data": {
            "text/plain": [
              "1.0"
            ]
          },
          "metadata": {},
          "execution_count": 77
        }
      ]
    },
    {
      "cell_type": "code",
      "source": [
        "1.0 + 1.0e20 - 1.0e20"
      ],
      "metadata": {
        "colab": {
          "base_uri": "https://localhost:8080/"
        },
        "id": "91iKw_GjVP_-",
        "outputId": "99d755b9-c5ad-4720-c336-a182365e777a"
      },
      "execution_count": 78,
      "outputs": [
        {
          "output_type": "execute_result",
          "data": {
            "text/plain": [
              "0.0"
            ]
          },
          "metadata": {},
          "execution_count": 78
        }
      ]
    },
    {
      "cell_type": "markdown",
      "source": [
        ""
      ],
      "metadata": {
        "id": "RrPlwRubU5Lx"
      }
    },
    {
      "cell_type": "markdown",
      "source": [
        "**Exercise 1.7: Variables**\n",
        "\n"
      ],
      "metadata": {
        "id": "L_UuJz4xkPgt"
      }
    },
    {
      "cell_type": "code",
      "source": [
        "string = 'John Doe'\n",
        "print(\"Hello, \" + string + \"!\")"
      ],
      "metadata": {
        "colab": {
          "base_uri": "https://localhost:8080/"
        },
        "id": "dUzhGxw0k-kA",
        "outputId": "17a577c6-1a3c-4fd1-da7e-adf0f1deeb45"
      },
      "execution_count": 3,
      "outputs": [
        {
          "output_type": "stream",
          "name": "stdout",
          "text": [
            "Hello, John Doe!\n"
          ]
        }
      ]
    },
    {
      "cell_type": "markdown",
      "source": [
        "**Exercise 1.8: Type casting**\n",
        "\n",
        "(a) Float (123): converts 123 integer to single precision floating point.\n",
        "\n",
        "(b) Float('123'): converts 123 strings to single precision floating point.\n",
        "\n",
        "(c) Float ('123.23'): converts 123.23 strings to single-precision floating point.\n",
        "\n",
        "(d) INT (123.23): transforming 12323 floating point numbers to integers.\n",
        "\n",
        "(e) Int('123.23'): converts 123.23 strings to integers.\n",
        "\n",
        "(f) Int(float('123.23')): String converted 123.23 to the single precision floating point number and converted to integers.\n",
        "\n",
        "(g) STR (12): convert 12 integer to string.\n",
        "\n",
        "(h) STR (12.2): converted from floating point number to strings.\n",
        "\n",
        "(i) BOOL('A'): converted string to boolean number, ASCII is not 0.\n",
        "\n",
        "(j) Bool (0): converted to a Boolean number.\n",
        "\n",
        "(k) bool(0.1): Translate floating point numbers to Booleen."
      ],
      "metadata": {
        "id": "gXHncbO4lELx"
      }
    },
    {
      "cell_type": "markdown",
      "source": [
        "**2 Control flow**\n",
        "\n",
        "**Exercise 2.1: Range**\n",
        "\n",
        "range(5) will generate a list of numbers ranging from 1 to 4. for I in range(5) indicates the creation of a loop that iterates through each item in the range list."
      ],
      "metadata": {
        "id": "7oh6SqdSmKvB"
      }
    },
    {
      "cell_type": "code",
      "source": [
        "for i in range(5):\n",
        "    print(i)"
      ],
      "metadata": {
        "colab": {
          "base_uri": "https://localhost:8080/"
        },
        "id": "V4mf9VqdJS6L",
        "outputId": "d80ea9b2-96ba-4370-9da6-0f24259f1e3d"
      },
      "execution_count": 1,
      "outputs": [
        {
          "output_type": "stream",
          "name": "stdout",
          "text": [
            "0\n",
            "1\n",
            "2\n",
            "3\n",
            "4\n"
          ]
        }
      ]
    },
    {
      "cell_type": "markdown",
      "source": [
        "**Exercise 2.2: For loops**\n",
        "\n",
        "(a)"
      ],
      "metadata": {
        "id": "b5FGKPlLJUtb"
      }
    },
    {
      "cell_type": "code",
      "source": [
        "for i in range(101):\n",
        "  print(i, end=' ')"
      ],
      "metadata": {
        "colab": {
          "base_uri": "https://localhost:8080/"
        },
        "id": "6AFBvaQCJp5T",
        "outputId": "b81b8f4d-ca0f-4b48-c4b6-05c41c7f19b1"
      },
      "execution_count": 8,
      "outputs": [
        {
          "output_type": "stream",
          "name": "stdout",
          "text": [
            "0 1 2 3 4 5 6 7 8 9 10 11 12 13 14 15 16 17 18 19 20 21 22 23 24 25 26 27 28 29 30 31 32 33 34 35 36 37 38 39 40 41 42 43 44 45 46 47 48 49 50 51 52 53 54 55 56 57 58 59 60 61 62 63 64 65 66 67 68 69 70 71 72 73 74 75 76 77 78 79 80 81 82 83 84 85 86 87 88 89 90 91 92 93 94 95 96 97 98 99 100 "
          ]
        }
      ]
    },
    {
      "cell_type": "markdown",
      "source": [
        "(b)"
      ],
      "metadata": {
        "id": "h6fuqM_9J1CT"
      }
    },
    {
      "cell_type": "code",
      "source": [
        "for i in range(101):\n",
        "  if(i%7==0):\n",
        "    print(i, end=' ')"
      ],
      "metadata": {
        "colab": {
          "base_uri": "https://localhost:8080/"
        },
        "id": "DTILVKuqJ3BG",
        "outputId": "3a526f84-8ad7-43ce-c983-52f9a123ee6d"
      },
      "execution_count": 12,
      "outputs": [
        {
          "output_type": "stream",
          "name": "stdout",
          "text": [
            "0 7 14 21 28 35 42 49 56 63 70 77 84 91 98 "
          ]
        }
      ]
    },
    {
      "cell_type": "markdown",
      "source": [
        "(c)"
      ],
      "metadata": {
        "id": "N6zM4MQqKPaT"
      }
    },
    {
      "cell_type": "code",
      "source": [
        "for i in range(101):\n",
        "  if(i%5==0 and i%3==0):\n",
        "    print(i, end=' ')"
      ],
      "metadata": {
        "colab": {
          "base_uri": "https://localhost:8080/"
        },
        "id": "7IugKo1MKRbr",
        "outputId": "0d734bcd-7a6e-4328-f64b-19d7abd74966"
      },
      "execution_count": 11,
      "outputs": [
        {
          "output_type": "stream",
          "name": "stdout",
          "text": [
            "0 15 30 45 60 75 90 "
          ]
        }
      ]
    },
    {
      "cell_type": "markdown",
      "source": [
        "(d)"
      ],
      "metadata": {
        "id": "2vFyFOQJKdnd"
      }
    },
    {
      "cell_type": "code",
      "source": [
        "for x in range(2,21):\n",
        "  print('x = '+str(x)+':')\n",
        "  for j in range(2,x):\n",
        "    if(x%j==0):\n",
        "      print(j, end=' ')\n",
        "  print()"
      ],
      "metadata": {
        "colab": {
          "base_uri": "https://localhost:8080/"
        },
        "id": "GHGPnTSlKfTR",
        "outputId": "54524f0a-87d1-4f28-f27b-5fe63811e31c"
      },
      "execution_count": 16,
      "outputs": [
        {
          "output_type": "stream",
          "name": "stdout",
          "text": [
            "x = 2:\n",
            "\n",
            "x = 3:\n",
            "\n",
            "x = 4:\n",
            "2 \n",
            "x = 5:\n",
            "\n",
            "x = 6:\n",
            "2 3 \n",
            "x = 7:\n",
            "\n",
            "x = 8:\n",
            "2 4 \n",
            "x = 9:\n",
            "3 \n",
            "x = 10:\n",
            "2 5 \n",
            "x = 11:\n",
            "\n",
            "x = 12:\n",
            "2 3 4 6 \n",
            "x = 13:\n",
            "\n",
            "x = 14:\n",
            "2 7 \n",
            "x = 15:\n",
            "3 5 \n",
            "x = 16:\n",
            "2 4 8 \n",
            "x = 17:\n",
            "\n",
            "x = 18:\n",
            "2 3 6 9 \n",
            "x = 19:\n",
            "\n",
            "x = 20:\n",
            "2 4 5 10 \n"
          ]
        }
      ]
    },
    {
      "cell_type": "markdown",
      "source": [
        "**Exercise 2.3: Simple while loops**\n",
        "(a)"
      ],
      "metadata": {
        "id": "7C_s4uXCMiaO"
      }
    },
    {
      "cell_type": "code",
      "source": [
        "i=0\n",
        "while(i<=100):\n",
        "  print(i, end=' ')\n",
        "  i=i+1"
      ],
      "metadata": {
        "colab": {
          "base_uri": "https://localhost:8080/"
        },
        "id": "BguxUeB0MqVa",
        "outputId": "1c2c1e2f-bb8a-454f-b2c9-fcd5e7f740be"
      },
      "execution_count": 18,
      "outputs": [
        {
          "output_type": "stream",
          "name": "stdout",
          "text": [
            "0 1 2 3 4 5 6 7 8 9 10 11 12 13 14 15 16 17 18 19 20 21 22 23 24 25 26 27 28 29 30 31 32 33 34 35 36 37 38 39 40 41 42 43 44 45 46 47 48 49 50 51 52 53 54 55 56 57 58 59 60 61 62 63 64 65 66 67 68 69 70 71 72 73 74 75 76 77 78 79 80 81 82 83 84 85 86 87 88 89 90 91 92 93 94 95 96 97 98 99 100 "
          ]
        }
      ]
    },
    {
      "cell_type": "markdown",
      "source": [
        "(b)"
      ],
      "metadata": {
        "id": "SCyCInegNJVo"
      }
    },
    {
      "cell_type": "code",
      "source": [
        "i=0\n",
        "while(i<=100):\n",
        "  if(i%7==0):\n",
        "    print(i, end=' ')\n",
        "  i=i+1"
      ],
      "metadata": {
        "colab": {
          "base_uri": "https://localhost:8080/"
        },
        "id": "4U2-lUvyNLah",
        "outputId": "f4a9bec4-12b8-4fee-ac3c-8a6435b00b5d"
      },
      "execution_count": 19,
      "outputs": [
        {
          "output_type": "stream",
          "name": "stdout",
          "text": [
            "0 7 14 21 28 35 42 49 56 63 70 77 84 91 98 "
          ]
        }
      ]
    },
    {
      "cell_type": "markdown",
      "source": [
        "**Exercise 2.5: While loops**"
      ],
      "metadata": {
        "id": "H6Sx-TBcNEFQ"
      }
    },
    {
      "cell_type": "code",
      "source": [
        "number = 0\n",
        "x = 11\n",
        "while number<20:\n",
        "\tif(x %3==0 and x%5 == 0 and x%11 == 0):\n",
        "\t\tprint(x,end = ' ')\n",
        "\t\tnumber = number +1\n",
        "\tx = x +1"
      ],
      "metadata": {
        "colab": {
          "base_uri": "https://localhost:8080/"
        },
        "id": "rQ1-w9EJNHWI",
        "outputId": "dc9d6149-863f-498b-bb5e-53c4706a74a8"
      },
      "execution_count": 20,
      "outputs": [
        {
          "output_type": "stream",
          "name": "stdout",
          "text": [
            "165 330 495 660 825 990 1155 1320 1485 1650 1815 1980 2145 2310 2475 2640 2805 2970 3135 3300 "
          ]
        }
      ]
    },
    {
      "cell_type": "markdown",
      "source": [
        "**Exercise 2.6: More while loops**"
      ],
      "metadata": {
        "id": "0_I4C9wMNqqQ"
      }
    },
    {
      "cell_type": "code",
      "source": [
        "w = True\n",
        "for i in range(10,99999):\n",
        "  for x in range(1,11):\n",
        "    if(i%x!=0):\n",
        "      w = False\n",
        "  if(w == True):\n",
        "    print(\"Number:\" + str(i))\n",
        "    break\n",
        "  else:\n",
        "    w = True"
      ],
      "metadata": {
        "colab": {
          "base_uri": "https://localhost:8080/"
        },
        "id": "3SdWO-VsNusS",
        "outputId": "ce29fd74-fe14-4aea-bd4d-135db2529b63"
      },
      "execution_count": 21,
      "outputs": [
        {
          "output_type": "stream",
          "name": "stdout",
          "text": [
            "Number:2520\n"
          ]
        }
      ]
    },
    {
      "cell_type": "markdown",
      "source": [
        "**Exercise 2.7: Collatz sequence**"
      ],
      "metadata": {
        "id": "pAfuMUpPPHRn"
      }
    },
    {
      "cell_type": "code",
      "source": [
        "x = 103\n",
        "print(x,end = ' ')\n",
        "while x != 1:\n",
        "\tif(x%2 == 0):\n",
        "\t\tx = int(x/2)\n",
        "\telse:\n",
        "\t\tx = x*3+1\n",
        "\tprint(x,end = ' ')"
      ],
      "metadata": {
        "colab": {
          "base_uri": "https://localhost:8080/"
        },
        "id": "tvT9qqmTPKKw",
        "outputId": "3e2cc94c-7958-47b7-f983-7ed36ae0db2f"
      },
      "execution_count": 22,
      "outputs": [
        {
          "output_type": "stream",
          "name": "stdout",
          "text": [
            "103 310 155 466 233 700 350 175 526 263 790 395 1186 593 1780 890 445 1336 668 334 167 502 251 754 377 1132 566 283 850 425 1276 638 319 958 479 1438 719 2158 1079 3238 1619 4858 2429 7288 3644 1822 911 2734 1367 4102 2051 6154 3077 9232 4616 2308 1154 577 1732 866 433 1300 650 325 976 488 244 122 61 184 92 46 23 70 35 106 53 160 80 40 20 10 5 16 8 4 2 1 "
          ]
        }
      ]
    },
    {
      "cell_type": "markdown",
      "source": [
        "**3 Functions**\n",
        "\n",
        "**Exercise 3.1: Hello**"
      ],
      "metadata": {
        "id": "uCYaILQZPVPE"
      }
    },
    {
      "cell_type": "code",
      "source": [
        "def hello_world():\n",
        "\tprint('Hello, world!')\n",
        " \n",
        "def  hello_name(name):\n",
        "\tprint('Hello, '+name+'!')\n",
        " \n",
        "def hello_world_return():\n",
        "\t return 'Hello, world!'\n",
        " \n",
        "def  hello_name_return(name):\n",
        "\treturn 'Hello, '+name+'!'\n",
        " \n",
        "hello_world()\n",
        "hello_name(\"SAMIN\")\n",
        "print(hello_world_return())\n",
        "print(hello_name_return(\"Samin\"))"
      ],
      "metadata": {
        "colab": {
          "base_uri": "https://localhost:8080/"
        },
        "id": "Fg_l4vIIPqDz",
        "outputId": "5480c0d5-7e97-4c45-9002-6401e1386ca7"
      },
      "execution_count": 24,
      "outputs": [
        {
          "output_type": "stream",
          "name": "stdout",
          "text": [
            "Hello, world!\n",
            "Hello, SAMIN!\n",
            "Hello, world!\n",
            "Hello, Samin!\n"
          ]
        }
      ]
    },
    {
      "cell_type": "markdown",
      "source": [
        "**Exercise 3.2: Polynomial**"
      ],
      "metadata": {
        "id": "YkzX9l-SP7Nx"
      }
    },
    {
      "cell_type": "code",
      "source": [
        "def evaluate(x):\n",
        "\tresult = 3*(x ** 2)-x+2\n",
        "\tprint(result)\n",
        "\treturn result\n",
        " \n",
        "evaluate(1)"
      ],
      "metadata": {
        "colab": {
          "base_uri": "https://localhost:8080/"
        },
        "id": "JUMJ1qFlP-s6",
        "outputId": "bfbcb88b-9f4b-4e8f-8152-87da04efc39b"
      },
      "execution_count": 26,
      "outputs": [
        {
          "output_type": "stream",
          "name": "stdout",
          "text": [
            "4\n"
          ]
        },
        {
          "output_type": "execute_result",
          "data": {
            "text/plain": [
              "4"
            ]
          },
          "metadata": {},
          "execution_count": 26
        }
      ]
    },
    {
      "cell_type": "markdown",
      "source": [
        "**Exercise 3.3: Maximum**"
      ],
      "metadata": {
        "id": "D6IFOm3eQGm7"
      }
    },
    {
      "cell_type": "code",
      "source": [
        "def my_max_1(x,y):\n",
        "\tif(x>y):\n",
        "\t\treturn x\n",
        "\telse:\n",
        "\t\treturn y\n",
        "def my_max_2(x,y):\n",
        "\tif(x > y):\n",
        "\t\treturn x\n",
        "\treturn y\n",
        " \n",
        "print(my_max_1(10,99))\n",
        "print(my_max_2(1,999))"
      ],
      "metadata": {
        "colab": {
          "base_uri": "https://localhost:8080/"
        },
        "id": "L3VHd0ZXQIXs",
        "outputId": "bb6d066d-1dff-46d1-e6a6-23556fcb7ba5"
      },
      "execution_count": 27,
      "outputs": [
        {
          "output_type": "stream",
          "name": "stdout",
          "text": [
            "99\n",
            "999\n"
          ]
        }
      ]
    },
    {
      "cell_type": "markdown",
      "source": [
        "**Exercise 3.4: Primes**\n",
        "(a)"
      ],
      "metadata": {
        "id": "kHVMMr-DQqF2"
      }
    },
    {
      "cell_type": "code",
      "source": [
        "import math\n",
        "def is_prime(n):\n",
        "\tfor i in range(2,int(math.sqrt(n))):\n",
        "\t\tif(n%i == 0):\n",
        "\t\t\treturn False\n",
        "\treturn True\n",
        " \n",
        "print(is_prime(99991))"
      ],
      "metadata": {
        "colab": {
          "base_uri": "https://localhost:8080/"
        },
        "id": "Qpzveje1QrHN",
        "outputId": "d4a48ee5-3717-491d-8c95-02e2f3917ffb"
      },
      "execution_count": 28,
      "outputs": [
        {
          "output_type": "stream",
          "name": "stdout",
          "text": [
            "True\n"
          ]
        }
      ]
    },
    {
      "cell_type": "markdown",
      "source": [
        "(b)"
      ],
      "metadata": {
        "id": "zj-o5DqIQ3Yo"
      }
    },
    {
      "cell_type": "code",
      "source": [
        "def is_prime_2(n):\n",
        "\tif(n==2 or n== 3):\n",
        "\t\treturn True\n",
        "\tif((n-1)%6 !=0 and (n+1)%6 != 0 ):\n",
        "\t\treturn False\n",
        " \n",
        "\tfor i in range(2,int(math.sqrt(n))):\n",
        "\t\tif(n%i == 0):\n",
        "\t\t\treturn False\n",
        "\treturn True\n",
        " \n",
        "print(is_prime(99991))"
      ],
      "metadata": {
        "colab": {
          "base_uri": "https://localhost:8080/"
        },
        "id": "WWjBzJUAQ4rG",
        "outputId": "c2ef4a76-d083-484d-a799-4de9cb8c606f"
      },
      "execution_count": 29,
      "outputs": [
        {
          "output_type": "stream",
          "name": "stdout",
          "text": [
            "True\n"
          ]
        }
      ]
    },
    {
      "cell_type": "markdown",
      "source": [
        "(c)"
      ],
      "metadata": {
        "id": "yPNvZ7LtQ9Ov"
      }
    },
    {
      "cell_type": "code",
      "source": [
        "def count_prime(n):\n",
        "\tprint(str(2)+' '+str(3),end = ' ')\n",
        "\tfor x in range(4,n+1):\n",
        "\t\tif((x-1)%6 !=0 and (x+1)%6 != 0 ):\n",
        "\t\t\tcontinue\n",
        "\t\tflag = True\n",
        "\t\tfor i in range(2,int(math.sqrt(n))):\n",
        "\t\t\tif(x%i == 0):\n",
        "\t\t\t\tflag = False\n",
        "\t\tif(flag == True):\n",
        "\t\t\tprint(x,end = ' ')\n",
        "\t\telse:\n",
        "\t\t\tflag = True\n",
        " \n",
        "count_prime(20)\n",
        "print()"
      ],
      "metadata": {
        "colab": {
          "base_uri": "https://localhost:8080/"
        },
        "id": "D2V9ldLpQ-jW",
        "outputId": "09eb4307-051b-43c7-8b32-377465901524"
      },
      "execution_count": 30,
      "outputs": [
        {
          "output_type": "stream",
          "name": "stdout",
          "text": [
            "2 3 5 7 11 13 17 19 \n"
          ]
        }
      ]
    },
    {
      "cell_type": "markdown",
      "source": [
        "(d)"
      ],
      "metadata": {
        "id": "1OsZlWNfRDSa"
      }
    },
    {
      "cell_type": "code",
      "source": [
        "def count_prime_2(n):\n",
        "\tif(n == 1):\n",
        "\t\treturn 2\n",
        "\tif(n == 2):\n",
        "\t\treturn 3\n",
        "\tnum_found = 2\n",
        "\tx = 5\n",
        "\twhile(True):\n",
        "\t\t\n",
        "\t\tif((x-1)%6 !=0 and (x+1)%6 != 0 ):\n",
        "\t\t\tx = x+1\n",
        "\t\t\tcontinue\n",
        " \n",
        "\t\tflag = True\n",
        "\t\tfor i in range(2,int(math.sqrt(n))):\n",
        "\t\t\tif(x%i == 0):\n",
        "\t\t\t\tflag = False\n",
        "\t\tif(flag == True):\n",
        "\t\t\tnum_found = num_found +1\n",
        "\t\t\tif(num_found == n):\n",
        "\t\t\t\treturn x\n",
        "\t\telse:\n",
        "\t\t\tflag = True\n",
        "\t\tx = x+1\n",
        " \n",
        "print(count_prime_2(5))"
      ],
      "metadata": {
        "colab": {
          "base_uri": "https://localhost:8080/"
        },
        "id": "wvaoLid0REmP",
        "outputId": "09b3bb6d-72b2-43f6-a984-364da9989fbe"
      },
      "execution_count": 31,
      "outputs": [
        {
          "output_type": "stream",
          "name": "stdout",
          "text": [
            "11\n"
          ]
        }
      ]
    },
    {
      "cell_type": "markdown",
      "source": [
        "**Exercise 3.5: Root finding**\n",
        "\n",
        "(a)"
      ],
      "metadata": {
        "id": "os3dbI7URt-J"
      }
    },
    {
      "cell_type": "code",
      "source": [
        "def root(f, a, b):\n",
        "\tmid_point = (a+b)/2\n",
        "\tif(f(mid_point) == 0): \n",
        "\t\treturn mid_point\n",
        "\tif(f(mid_point) < 0):\n",
        "\t\troot(f,mid_point,b)\n",
        "\tif(f(mid_point) > 0):\n",
        "\t\troot(f,a,mid_point)"
      ],
      "metadata": {
        "id": "NRDqusccRzdD"
      },
      "execution_count": 39,
      "outputs": []
    },
    {
      "cell_type": "markdown",
      "source": [
        "(b)"
      ],
      "metadata": {
        "id": "rrkdebx-R6_g"
      }
    },
    {
      "cell_type": "code",
      "source": [
        "def root_2(f, a, b):\n",
        "\tmid_point = (a+b)/2\n",
        "\tif(f(mid_point) == 0): \n",
        "\t\treturn mid_point\n",
        "\tif(f(mid_point) < 0):\n",
        "\t\troot(f,mid_point,b)\n",
        "\tif(f(mid_point) > 0):\n",
        "\t\troot(f,a,mid_point)"
      ],
      "metadata": {
        "id": "cOLldkfER8Rh"
      },
      "execution_count": 38,
      "outputs": []
    },
    {
      "cell_type": "markdown",
      "source": [
        "(c)"
      ],
      "metadata": {
        "id": "7BYDIhL0R_II"
      }
    },
    {
      "cell_type": "code",
      "source": [
        "def chech(f,a,b):\n",
        "\tif(f(a)*f(b)>0):\n",
        "\t\tprint('function has same sign')"
      ],
      "metadata": {
        "id": "l3OD4EiLSATF"
      },
      "execution_count": 41,
      "outputs": []
    }
  ]
}